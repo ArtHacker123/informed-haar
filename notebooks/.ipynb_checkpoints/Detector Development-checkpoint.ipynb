{
 "cells": [
  {
   "cell_type": "markdown",
   "metadata": {},
   "source": [
    "# Import Dependencies"
   ]
  },
  {
   "cell_type": "code",
   "execution_count": 163,
   "metadata": {
    "collapsed": false
   },
   "outputs": [
    {
     "name": "stdout",
     "output_type": "stream",
     "text": [
      "The autoreload extension is already loaded. To reload it, use:\n",
      "  %reload_ext autoreload\n"
     ]
    }
   ],
   "source": [
    "%load_ext autoreload\n",
    "%autoreload 2\n",
    "\n",
    "import sys\n",
    "sys.path.append('../')\n",
    "import numpy as np\n",
    "import cv2\n",
    "import imutils\n",
    "\n",
    "from ChannelFeatures import ChannelFeatures\n",
    "from feature_generator import FeatureGenerator\n",
    "import nms"
   ]
  },
  {
   "cell_type": "markdown",
   "metadata": {},
   "source": [
    "# Detector Class"
   ]
  },
  {
   "cell_type": "code",
   "execution_count": 182,
   "metadata": {
    "collapsed": true
   },
   "outputs": [],
   "source": [
    "class Detector():\n",
    "    \"\"\" \n",
    "        The Detector class is used to detect pedestrians in images by locating bounding boxes with high probabilities\n",
    "        containing a pedestrian \n",
    "    \"\"\"\n",
    "\n",
    "    def __init__(self, clf, fg, window_size=(120,60), scaling_factor=1.2, scaling_iters=8, window_step=6):\n",
    "        \"\"\" Instantiates the detector class:\n",
    "        \n",
    "            Input: weight_indices, weights, window_size, scaling_factor, scaling_iters, window_step\n",
    "            \n",
    "            - weight_indices: the indices of the features that will be used to score a window in the image\n",
    "            - weights: the weights used to compute a score for a feature vector associated with a window in the image\n",
    "            - fg: FeatureGenerator() object used to generate feature vectors for window in an image\n",
    "            - window_size: the size of the sliding window defaults to 120 x 60\n",
    "            - scaling_factor: factor by which we scale the image on each successive scaling iteration\n",
    "            - scaling_iters: the number of times we scale the image\n",
    "            - window_step: the amount of pixels stepped over on each slide of the window\n",
    "        \"\"\"\n",
    "\n",
    "        self.clf = clf\n",
    "        self.window_size = window_size\n",
    "        self.window_step = window_step\n",
    "\n",
    "        self.scaling_factor = scaling_factor\n",
    "        self.scaling_iters = scaling_iters\n",
    "\n",
    "        self.cf = ChannelFeatures()\n",
    "        self.fg = fg\n",
    "\n",
    "    def detect_pedestrians(self, img_path):\n",
    "        \"\"\"\n",
    "            Detects pedestrians in an image.\n",
    "\n",
    "            1) Slides bounding box window over the image\n",
    "            2) Computes detection score using weights from boosted tree classifier\n",
    "            3) Keeps the bounding box if the score is above a certain threshold\n",
    "            4) Runs non-maximal suppression (NMS) on bounding boxes\n",
    "\n",
    "            Input: img_path\n",
    "\n",
    "            - img_path: path to image file\n",
    "\n",
    "            Output: list of bounding boxes and scores \n",
    "\n",
    "        \"\"\"\n",
    "        \n",
    "        candidate_bbs = self._get_bounding_boxes(img_path)\n",
    "#         bbs = nms.non_max_suppression(candidate_bbs, overlapThresh=0.5)\n",
    "        return candidate_bbs\n",
    "        \n",
    "\n",
    "       \n",
    "        \n",
    "    def _get_bounding_boxes(self, img_path, start_h=120, start_w=60):\n",
    "        \"\"\" \n",
    "            Returns 2D array of bounding boxes (M bounding boxes x 5 characteristics per bounding box)\n",
    "        \"\"\"\n",
    "        \n",
    "        bounding_boxes = []\n",
    "    \n",
    "        \n",
    "        img = cv2.imread(img_path)\n",
    "        oheight, owidth, channels = img.shape\n",
    "\n",
    "        if oheight/start_h > owidth/start_w:\n",
    "            img = imutils.resize(img, width=min(start_w,img.shape[1]))\n",
    "        else:\n",
    "            img = imutils.resize(img, width=min(start_h,img.shape[0]))\n",
    "            \n",
    "        oheight, owidth, channels = img.shape\n",
    "        win_h, win_w = self.window_size\n",
    "        \n",
    "        #=====[ Collect bounding boxes for each scaling iteration ]=====\n",
    "        for it_num in range(self.scaling_iters):\n",
    "\n",
    "            #=====[ Scale image if not on first iteration ]=====\n",
    "            if it_num > 0:\n",
    "                img = cv2.resize(img,(int(it_num*self.scaling_factor*owidth), int(it_num*self.scaling_factor*oheight)))\n",
    "\n",
    "            height, width, _ = img.shape\n",
    "\n",
    "            y_range = (height - win_h)/self.window_step + 1\n",
    "            x_range = (width - win_w)/self.window_step + 1\n",
    "            \n",
    "            cfeats = self.cf.compute_channels(img)\n",
    "\n",
    "            #=====[ Slide window across entirety of image and calculate bounding box at each step ]=====\n",
    "            for y in range(y_range):\n",
    "                for x in range(x_range):\n",
    "\n",
    "                    y_pix = y*self.window_step\n",
    "                    x_pix = x*self.window_step\n",
    "\n",
    "                    #=====[ Score the bounding box ]=====\n",
    "                    feature_vec = np.asarray(self.fg.generate_features(cfeats[y:y+win_h,x:x+win_w]))\n",
    "                    \n",
    "                    score = self.clf.predict_proba([feature_vec])[0,1]\n",
    "\n",
    "                    #=====[ Scale and store bounding box ]=====\n",
    "                    scale = self.scaling_factor*it_num if it_num else 1\n",
    "                    \n",
    "                    if score > 0.5:\n",
    "                        bounding_boxes.append([score, y_pix/scale, x_pix/scale, win_h/scale, win_w/scale])\n",
    "\n",
    "\n",
    "            return np.matrix(bounding_boxes)\n",
    "        \n",
    "    def _calculate_total_iters(self, img):\n",
    "        \"\"\" Calculates total number of bounding box scores to be calculated \"\"\"\n",
    "        \n",
    "        oheight, owidth, channels = img.shape\n",
    "        win_h, win_w = self.window_size\n",
    "        \n",
    "        iters = 0\n",
    "        \n",
    "        for it_num in range(self.scaling_iters):\n",
    "\n",
    "            #=====[ Scale image if not on first iteration ]=====\n",
    "            if it_num > 0:\n",
    "                img = cv2.resize(img,(int(it_num*self.scaling_factor*owidth), int(it_num*self.scaling_factor*oheight)))\n",
    "\n",
    "            height, width, _ = img.shape\n",
    "\n",
    "            y_range = (height - win_h)/self.window_step + 1\n",
    "            x_range = (width - win_w)/self.window_step + 1\n",
    "            \n",
    "            iters += y_range*x_range\n",
    "        \n",
    "        return iters"
   ]
  },
  {
   "cell_type": "code",
   "execution_count": 183,
   "metadata": {
    "collapsed": false
   },
   "outputs": [
    {
     "name": "stdout",
     "output_type": "stream",
     "text": [
      "BB Detection for full feature set classifier is about 7 minutes\n",
      "BB Detection for small feature set classifier is about 2 minutes\n",
      "200 Estimators Used\n",
      "10450 Features\n",
      "Created 950 templates\n"
     ]
    }
   ],
   "source": [
    "from template_generator import TemplateGenerator\n",
    "import pickle\n",
    "import sys\n",
    "sys.path.append('../')\n",
    "\n",
    "print \"BB Detection for full feature set classifier is about 7 minutes\"\n",
    "print \"BB Detection for small feature set classifier is about 2 minutes\"\n",
    "\n",
    "clf = pickle.load(open('../BoostedTreeclassifier_small.p','rb'))\n",
    "print \"%d Estimators Used\" % (len(clf.clf.estimator_weights_))\n",
    "print \"%d Features\" % (len(clf.clf.feature_importances_))\n",
    "\n",
    "tg = TemplateGenerator()\n",
    "tg.generate_sizes(w_max=3, h_max=2)\n",
    "# tg.generate_sizes()\n",
    "templates = tg.generate_templates()\n",
    "\n",
    "#=====[ Instantiate FeatureGenerator ]=====\n",
    "fg = FeatureGenerator(templates)\n",
    "\n",
    "d = Detector(clf.clf,fg)"
   ]
  },
  {
   "cell_type": "code",
   "execution_count": 184,
   "metadata": {
    "collapsed": false
   },
   "outputs": [
    {
     "name": "stdout",
     "output_type": "stream",
     "text": [
      "2016-05-31 16:45:52.186928\n",
      "43294 Total Iterations\n",
      "2016-05-31 16:45:52.209387\n"
     ]
    }
   ],
   "source": [
    "import datetime\n",
    "import warnings\n",
    "warnings.filterwarnings(\"ignore\", category=DeprecationWarning)\n",
    "\n",
    "print datetime.datetime.now()\n",
    "bb = d.detect_pedestrians('../ped_image.jpeg')\n",
    "print datetime.datetime.now()"
   ]
  },
  {
   "cell_type": "code",
   "execution_count": 185,
   "metadata": {
    "collapsed": false
   },
   "outputs": [
    {
     "name": "stdout",
     "output_type": "stream",
     "text": [
      "1 Bounding boxes extracted\n",
      "[]\n"
     ]
    }
   ],
   "source": [
    "print '%d Bounding boxes extracted' % (len(bb))\n",
    "print bb"
   ]
  },
  {
   "cell_type": "code",
   "execution_count": 168,
   "metadata": {
    "collapsed": false
   },
   "outputs": [
    {
     "ename": "IndexError",
     "evalue": "index 0 is out of bounds for axis 1 with size 0",
     "output_type": "error",
     "traceback": [
      "\u001b[0;31m---------------------------------------------------------------------------\u001b[0m",
      "\u001b[0;31mIndexError\u001b[0m                                Traceback (most recent call last)",
      "\u001b[0;32m<ipython-input-168-75e556466b07>\u001b[0m in \u001b[0;36m<module>\u001b[0;34m()\u001b[0m\n\u001b[1;32m      1\u001b[0m \u001b[0mbb\u001b[0m \u001b[0;34m=\u001b[0m \u001b[0mnp\u001b[0m\u001b[0;34m.\u001b[0m\u001b[0masarray\u001b[0m\u001b[0;34m(\u001b[0m\u001b[0mbb\u001b[0m\u001b[0;34m)\u001b[0m\u001b[0;34m\u001b[0m\u001b[0m\n\u001b[1;32m      2\u001b[0m \u001b[0;34m\u001b[0m\u001b[0m\n\u001b[0;32m----> 3\u001b[0;31m \u001b[0mnms_bb\u001b[0m \u001b[0;34m=\u001b[0m \u001b[0mnms\u001b[0m\u001b[0;34m.\u001b[0m\u001b[0mnon_max_suppression\u001b[0m\u001b[0;34m(\u001b[0m\u001b[0mbb\u001b[0m\u001b[0;34m,\u001b[0m \u001b[0moverlapThresh\u001b[0m\u001b[0;34m=\u001b[0m\u001b[0;36m0.3\u001b[0m\u001b[0;34m)\u001b[0m\u001b[0;34m\u001b[0m\u001b[0m\n\u001b[0m\u001b[1;32m      4\u001b[0m \u001b[0;32mprint\u001b[0m \u001b[0;34m'%d Bounding Boxes after suppression'\u001b[0m \u001b[0;34m%\u001b[0m \u001b[0;34m(\u001b[0m\u001b[0mlen\u001b[0m\u001b[0;34m(\u001b[0m\u001b[0mnms_bb\u001b[0m\u001b[0;34m)\u001b[0m\u001b[0;34m)\u001b[0m\u001b[0;34m\u001b[0m\u001b[0m\n\u001b[1;32m      5\u001b[0m \u001b[0;34m\u001b[0m\u001b[0m\n",
      "\u001b[0;32m/Users/Brandon/Desktop/Stanford/Classes/cs231a/informed-haar/nms.py\u001b[0m in \u001b[0;36mnon_max_suppression\u001b[0;34m(boxes, overlapThresh)\u001b[0m\n\u001b[1;32m     18\u001b[0m \u001b[0;34m\u001b[0m\u001b[0m\n\u001b[1;32m     19\u001b[0m     \u001b[0;31m# grab the coordinates of the bounding boxes\u001b[0m\u001b[0;34m\u001b[0m\u001b[0;34m\u001b[0m\u001b[0m\n\u001b[0;32m---> 20\u001b[0;31m     \u001b[0mscores\u001b[0m \u001b[0;34m=\u001b[0m \u001b[0mboxes\u001b[0m\u001b[0;34m[\u001b[0m\u001b[0;34m:\u001b[0m\u001b[0;34m,\u001b[0m \u001b[0;36m0\u001b[0m\u001b[0;34m]\u001b[0m\u001b[0;34m\u001b[0m\u001b[0m\n\u001b[0m\u001b[1;32m     21\u001b[0m     \u001b[0my1\u001b[0m \u001b[0;34m=\u001b[0m \u001b[0mboxes\u001b[0m\u001b[0;34m[\u001b[0m\u001b[0;34m:\u001b[0m\u001b[0;34m,\u001b[0m \u001b[0;36m1\u001b[0m\u001b[0;34m]\u001b[0m\u001b[0;34m\u001b[0m\u001b[0m\n\u001b[1;32m     22\u001b[0m     \u001b[0mx1\u001b[0m \u001b[0;34m=\u001b[0m \u001b[0mboxes\u001b[0m\u001b[0;34m[\u001b[0m\u001b[0;34m:\u001b[0m\u001b[0;34m,\u001b[0m \u001b[0;36m2\u001b[0m\u001b[0;34m]\u001b[0m\u001b[0;34m\u001b[0m\u001b[0m\n",
      "\u001b[0;31mIndexError\u001b[0m: index 0 is out of bounds for axis 1 with size 0"
     ]
    }
   ],
   "source": [
    "bb = np.asarray(bb)\n",
    "\n",
    "nms_bb = nms.non_max_suppression(bb, overlapThresh=0.3)\n",
    "print '%d Bounding Boxes after suppression' % (len(nms_bb))\n",
    "\n",
    "\n",
    "img = cv2.imread('../ped_image.jpeg')\n",
    "for box in nms_bb:\n",
    "    print 'Score is :', box[0]\n",
    "    cv2.rectangle(img,(int(box[2]),int(box[1])),(int(box[2]+box[4]),int(box[1]+box[3])),(0,255,0),3)    \n",
    "\n",
    "cv2.imwrite('saved_img.jpeg',img)"
   ]
  },
  {
   "cell_type": "code",
   "execution_count": null,
   "metadata": {
    "collapsed": true
   },
   "outputs": [],
   "source": []
  }
 ],
 "metadata": {
  "kernelspec": {
   "display_name": "Python 2",
   "language": "python",
   "name": "python2"
  },
  "language_info": {
   "codemirror_mode": {
    "name": "ipython",
    "version": 2
   },
   "file_extension": ".py",
   "mimetype": "text/x-python",
   "name": "python",
   "nbconvert_exporter": "python",
   "pygments_lexer": "ipython2",
   "version": "2.7.11"
  }
 },
 "nbformat": 4,
 "nbformat_minor": 0
}
