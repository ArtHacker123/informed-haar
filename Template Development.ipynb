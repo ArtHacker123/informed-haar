{
 "cells": [
  {
   "cell_type": "markdown",
   "metadata": {},
   "source": [
    "# Define TemplateGenerator Class"
   ]
  },
  {
   "cell_type": "code",
   "execution_count": 79,
   "metadata": {
    "collapsed": false,
    "scrolled": true
   },
   "outputs": [],
   "source": [
    "import numpy as np\n",
    "\n",
    "class TemplateGenerator():\n",
    "    \n",
    "    def __init__(self, shape_model=None, cell_size=None):\n",
    "        \"\"\" Instantiates TempalteGenerator. Creates default shape model if none provided\"\"\"\n",
    "        \n",
    "        if not shape_model:\n",
    "                        \n",
    "            # Number of pixels in each cell\n",
    "            self.cell_size = 6\n",
    "\n",
    "            # Make dummy data shape model\n",
    "            shape_model = np.zeros([20,10])\n",
    "            shape_model[2:4,4:6] = 1\n",
    "            shape_model[4:11,2:8] = 2\n",
    "            shape_model[11:18,3:7] = 3\n",
    "            self.shape_model = shape_model\n",
    "            \n",
    "        else:\n",
    "            \n",
    "            self.cell_size = cell_size\n",
    "            self.shape_model = shape_model\n",
    "            \n",
    "            \n",
    "    def generate_sizes(self, w_max=4, h_max=3):\n",
    "        \"\"\" Generates set of possible template sizes \"\"\"\n",
    "        \n",
    "        # Define width and height constraints in terms of cells\n",
    "        w_vals = range(1, w_max)\n",
    "        h_vals = range(1, h_max)\n",
    "        \n",
    "        # Generate size pool for template sizes\n",
    "        sizes = [(w,h) for w in w_vals for h in h_vals]\n",
    "        self.sizes = s[1:]\n",
    "\n",
    "    def generate_templates(self):\n",
    "        \"\"\" Generates templates by convolving windows defined by sizes over the shape model \"\"\"\n",
    "        \n",
    "        templates = []\n",
    "\n",
    "        # Slide each size template over the entire shape model and generate templates\n",
    "        for size in self.sizes:\n",
    "            w = size[0]\n",
    "            h = size[1]\n",
    "\n",
    "            # Slide template with dimenions specified by size across the entire shape model\n",
    "            for y in xrange(self.shape_model.shape[0] - h + 1):\n",
    "                for x in xrange(self.shape_model.shape[1] - w + 1):\n",
    "\n",
    "                    mat_temp = np.copy(self.shape_model[y:y+h, x:x+w])\n",
    "                    unique = np.unique(mat_temp)\n",
    "\n",
    "                    # Check to make sure template holds some shape model information\n",
    "                    if len(unique) > 1:\n",
    "\n",
    "                        # Binary template: set values to 1 and 0 and add template\n",
    "                        if len(unique) == 2:\n",
    "                            mat_temp[mat_temp == unique[0]] = 1\n",
    "                            mat_temp[mat_temp == unique[1]] = 0\n",
    "                            templates.append((w*cell_size,y*cell_size,size,mat_temp))\n",
    "\n",
    "                        # Ternary template: set values to -1, 0, 1 -- add template -- repeat with all permutations\n",
    "                        else:\n",
    "                            mat_temp[mat_temp == unique[0]] = -1\n",
    "                            mat_temp[mat_temp == unique[1]] = 0\n",
    "                            mat_temp[mat_temp == unique[2]] = 1\n",
    "                            templates.append((w*cell_size,y*cell_size,size,mat_temp))\n",
    "\n",
    "                            mat_temp[mat_temp == -1] = 0\n",
    "                            mat_temp[mat_temp == 0] = 1\n",
    "                            mat_temp[mat_temp == 1] = -1\n",
    "                            templates.append((w*cell_size,y*cell_size,size,mat_temp))\n",
    "\n",
    "                            mat_temp[mat_temp == -1] = 1\n",
    "                            mat_temp[mat_temp == 0] = -1\n",
    "                            mat_temp[mat_temp == 1] = 0\n",
    "                            templates.append((w*cell_size,y*cell_size,size,mat_temp))\n",
    "                            \n",
    "                            \n",
    "        self.templates = templates\n",
    "        return self.templates\n"
   ]
  },
  {
   "cell_type": "markdown",
   "metadata": {},
   "source": [
    "# Generate Templates with TemplateGenerator"
   ]
  },
  {
   "cell_type": "code",
   "execution_count": 78,
   "metadata": {
    "collapsed": false,
    "scrolled": true
   },
   "outputs": [
    {
     "name": "stdout",
     "output_type": "stream",
     "text": [
      "825\n"
     ]
    }
   ],
   "source": [
    "# Instantiate Template Generator\n",
    "tg = TemplateGenerator()\n",
    "\n",
    "# Generate sizes\n",
    "tg.generate_sizes()\n",
    "\n",
    "# Generate templates\n",
    "print len(tg.generate_templates())"
   ]
  },
  {
   "cell_type": "code",
   "execution_count": null,
   "metadata": {
    "collapsed": true
   },
   "outputs": [],
   "source": []
  }
 ],
 "metadata": {
  "kernelspec": {
   "display_name": "Python 2",
   "language": "python",
   "name": "python2"
  },
  "language_info": {
   "codemirror_mode": {
    "name": "ipython",
    "version": 2
   },
   "file_extension": ".py",
   "mimetype": "text/x-python",
   "name": "python",
   "nbconvert_exporter": "python",
   "pygments_lexer": "ipython2",
   "version": "2.7.11"
  }
 },
 "nbformat": 4,
 "nbformat_minor": 0
}
