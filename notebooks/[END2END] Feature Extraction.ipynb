{
 "cells": [
  {
   "cell_type": "markdown",
   "metadata": {},
   "source": [
    "# Import Classes"
   ]
  },
  {
   "cell_type": "code",
   "execution_count": 8,
   "metadata": {
    "collapsed": false
   },
   "outputs": [],
   "source": [
    "# For Notebook only\n",
    "import sys\n",
    "sys.path.append('../')\n",
    "\n",
    "import numpy as np\n",
    "import pickle\n",
    "from template_generator import TemplateGenerator\n",
    "from ChannelFeatures import ChannelFeatures\n",
    "from feature_generator import FeatureGenerator\n",
    "#import cv2"
   ]
  },
  {
   "cell_type": "markdown",
   "metadata": {},
   "source": [
    "# Generate Templates"
   ]
  },
  {
   "cell_type": "code",
   "execution_count": 9,
   "metadata": {
    "collapsed": false
   },
   "outputs": [
    {
     "name": "stdout",
     "output_type": "stream",
     "text": [
      "Created 2266 templates\n"
     ]
    }
   ],
   "source": [
    "tg = TemplateGenerator()\n",
    "tg.generate_sizes()\n",
    "\n",
    "templates = tg.generate_templates()\n",
    "\n",
    "print 'Created %d templates' % (len(templates))"
   ]
  },
  {
   "cell_type": "code",
   "execution_count": 14,
   "metadata": {
    "collapsed": false
   },
   "outputs": [],
   "source": [
    "fg = FeatureGenerator(templates)\n",
    "cf = ChannelFeatures()\n",
    "\n",
    "# Instantiate X \n",
    "X = np.zeros((len(images),len(images)*len(templates)*cf.N_CHANNELS))\n",
    "\n",
    "for idx, img in enumerate(images):\n",
    "    \n",
    "    # cfeats = cf.compute_channels(cv2.imread(img))\n",
    "    cfeats = np.zeros((20,10,11))\n",
    "    feature_vec = fg.generate_features(cfeats)\n",
    "\n",
    "    # Add feature vector to input matrix\n",
    "    X[idx,:] = feature_vec"
   ]
  },
  {
   "cell_type": "code",
   "execution_count": 15,
   "metadata": {
    "collapsed": false
   },
   "outputs": [],
   "source": [
    "pickle.dump(X, open('features.p','wb'))\n",
    "pickle.dump(fg.feature_info, open('feature_info.p','wb'))"
   ]
  }
 ],
 "metadata": {
  "kernelspec": {
   "display_name": "Python 2",
   "language": "python",
   "name": "python2"
  },
  "language_info": {
   "codemirror_mode": {
    "name": "ipython",
    "version": 2
   },
   "file_extension": ".py",
   "mimetype": "text/x-python",
   "name": "python",
   "nbconvert_exporter": "python",
   "pygments_lexer": "ipython2",
   "version": "2.7.11"
  }
 },
 "nbformat": 4,
 "nbformat_minor": 0
}
