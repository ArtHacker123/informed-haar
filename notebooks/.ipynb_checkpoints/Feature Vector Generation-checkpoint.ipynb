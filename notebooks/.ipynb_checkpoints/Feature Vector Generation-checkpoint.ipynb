{
 "cells": [
  {
   "cell_type": "markdown",
   "metadata": {},
   "source": [
    "# Feature Generator"
   ]
  },
  {
   "cell_type": "code",
   "execution_count": 57,
   "metadata": {
    "collapsed": false
   },
   "outputs": [
    {
     "name": "stdout",
     "output_type": "stream",
     "text": [
      "The autoreload extension is already loaded. To reload it, use:\n",
      "  %reload_ext autoreload\n"
     ]
    }
   ],
   "source": [
    "%load_ext autoreload\n",
    "%autoreload 2\n",
    "\n",
    "import numpy as np\n",
    "\n",
    "class FeatureGenerator:\n",
    "    \n",
    "    def __init__(self, templates):\n",
    "        \"\"\" \n",
    "            Instantiates feature generator with lists to store feature vectors and corresponding template\n",
    "            information for each feature vector\n",
    "        \"\"\"\n",
    "        self.templates = templates\n",
    "        \n",
    "    def generate_features(self, cfeats):\n",
    "        \"\"\" Generates feature vectors associated with each template \"\"\"\n",
    "        \n",
    "        self.features = []\n",
    "        self.feature_info = []\n",
    "        \n",
    "        _, _, k_channels = cfeats.shape\n",
    "\n",
    "        for t in self.templates:\n",
    "\n",
    "            x, y, size, W = t\n",
    "            w,h = size\n",
    "            \n",
    "            for k in range(k_channels):\n",
    "                \n",
    "                cell_feats = np.copy(cfeats[y:y+h, x:x+w, k])\n",
    "                self.features.append(np.sum(np.multiply(cell_feats,W)))\n",
    "                self.feature_info.append((x,y,size,k))\n",
    "                \n",
    "        return self.features, self.feature_info\n",
    "                    "
   ]
  },
  {
   "cell_type": "markdown",
   "metadata": {},
   "source": [
    "# Generate Templates"
   ]
  },
  {
   "cell_type": "code",
   "execution_count": 1,
   "metadata": {
    "collapsed": false
   },
   "outputs": [
    {
     "name": "stdout",
     "output_type": "stream",
     "text": [
      "Generated 2266 templates\n"
     ]
    }
   ],
   "source": [
    "import sys\n",
    "sys.path.append('../')\n",
    "\n",
    "from template_generator import TemplateGenerator\n",
    "\n",
    "tg = TemplateGenerator()\n",
    "tg.generate_sizes()\n",
    "templates = tg.generate_templates()\n",
    "\n",
    "print \"Generated %d templates\" % (len(templates))"
   ]
  },
  {
   "cell_type": "markdown",
   "metadata": {},
   "source": [
    "# Test Feature Generator"
   ]
  },
  {
   "cell_type": "code",
   "execution_count": 2,
   "metadata": {
    "collapsed": false
   },
   "outputs": [
    {
     "ename": "NameError",
     "evalue": "name 'FeatureGenerator' is not defined",
     "output_type": "error",
     "traceback": [
      "\u001b[0;31m---------------------------------------------------------------------------\u001b[0m",
      "\u001b[0;31mNameError\u001b[0m                                 Traceback (most recent call last)",
      "\u001b[0;32m<ipython-input-2-3c3a7a6f74a9>\u001b[0m in \u001b[0;36m<module>\u001b[0;34m()\u001b[0m\n\u001b[0;32m----> 1\u001b[0;31m \u001b[0mfg\u001b[0m \u001b[0;34m=\u001b[0m \u001b[0mFeatureGenerator\u001b[0m\u001b[0;34m(\u001b[0m\u001b[0;34m)\u001b[0m\u001b[0;34m\u001b[0m\u001b[0m\n\u001b[0m\u001b[1;32m      2\u001b[0m \u001b[0;34m\u001b[0m\u001b[0m\n\u001b[1;32m      3\u001b[0m \u001b[0;34m\u001b[0m\u001b[0m\n\u001b[1;32m      4\u001b[0m \u001b[0mfeats\u001b[0m\u001b[0;34m,\u001b[0m \u001b[0mfeat_info\u001b[0m \u001b[0;34m=\u001b[0m \u001b[0mfg\u001b[0m\u001b[0;34m.\u001b[0m\u001b[0mgenerate_features\u001b[0m\u001b[0;34m(\u001b[0m\u001b[0mtemplates\u001b[0m\u001b[0;34m,\u001b[0m\u001b[0mcfeats\u001b[0m\u001b[0;34m)\u001b[0m\u001b[0;34m\u001b[0m\u001b[0m\n\u001b[1;32m      5\u001b[0m \u001b[0;34m\u001b[0m\u001b[0m\n",
      "\u001b[0;31mNameError\u001b[0m: name 'FeatureGenerator' is not defined"
     ]
    }
   ],
   "source": [
    "fg = FeatureGenerator()\n",
    "cfeats =np.zeros((20,10,11))\n",
    "feats, feat_info = fg.generate_features(templates,cfeats)\n",
    "\n",
    "print \"Extracted %d feature vectors\" % len(feats)"
   ]
  },
  {
   "cell_type": "code",
   "execution_count": null,
   "metadata": {
    "collapsed": true
   },
   "outputs": [],
   "source": []
  }
 ],
 "metadata": {
  "kernelspec": {
   "display_name": "Python 2",
   "language": "python",
   "name": "python2"
  },
  "language_info": {
   "codemirror_mode": {
    "name": "ipython",
    "version": 2
   },
   "file_extension": ".py",
   "mimetype": "text/x-python",
   "name": "python",
   "nbconvert_exporter": "python",
   "pygments_lexer": "ipython2",
   "version": "2.7.11"
  }
 },
 "nbformat": 4,
 "nbformat_minor": 0
}
