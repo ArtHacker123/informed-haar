{
 "cells": [
  {
   "cell_type": "markdown",
   "metadata": {},
   "source": [
    "# Import Dependencies"
   ]
  },
  {
   "cell_type": "code",
   "execution_count": 1,
   "metadata": {
    "collapsed": false
   },
   "outputs": [],
   "source": [
    "%load_ext autoreload\n",
    "%autoreload 2\n",
    "\n",
    "import sys\n",
    "sys.path.append('../')\n",
    "import numpy as np\n",
    "import cv2\n",
    "import imutils\n",
    "\n",
    "from ChannelFeatures import ChannelFeatures\n",
    "from feature_gen import FeatureGenerator\n",
    "import nms"
   ]
  },
  {
   "cell_type": "markdown",
   "metadata": {},
   "source": [
    "# Detector Class"
   ]
  },
  {
   "cell_type": "code",
   "execution_count": null,
   "metadata": {
    "collapsed": false
   },
   "outputs": [],
   "source": [
    "import numpy as np\n",
    "import pickle\n",
    "from template_generator import TemplateGenerator\n",
    "from ChannelFeatures import ChannelFeatures\n",
    "from feature_gen import FeatureGenerator\n",
    "# from classifier import Classifier\n",
    "from detector import Detector\n",
    "from evaluator import Evaluator\n",
    "import cv2\n",
    "from os import path\n",
    "\n",
    "\n",
    "class Pipeline:\n",
    "    \"\"\"\n",
    "        Class for running the end-to-end Pipeline:\n",
    "\n",
    "        1) Template generation\n",
    "        2) ICF image feature extraction\n",
    "        3) Final feature vector formulation\n",
    "        4) Classifier training\n",
    "        5) Top feature selection\n",
    "\n",
    "    \"\"\"\n",
    "\n",
    "    def __init__(self):\n",
    "        \"\"\" Instantiates Pipeline's TemplateGenerator and ChannelFeatures \"\"\"\n",
    "\n",
    "        # =====[ Instantiate  ]=====\n",
    "        self.tg = TemplateGenerator()\n",
    "        self.cf = ChannelFeatures()\n",
    "        self.detector = None\n",
    "\n",
    "    def extract_features(self, dir_info=('../train_us', 'pos.lst', 'neg.lst'), file_name=None):\n",
    "        \"\"\"\n",
    "            Extracts features from directory provided\n",
    "\n",
    "            Input: dir_info, file_name\n",
    "\n",
    "            - dir_info: (tuple) with 3 strings: path to training images, list of positive image paths, list of negative image paths\n",
    "            - file_name: string of name of the file to save X, Y to. If none given, then X and Y are not saved.\n",
    "\n",
    "            Output: X, Y\n",
    "\n",
    "            - X: Input matrix (M training examples x N features)\n",
    "            - Y: Labels corresponding to M training examples\n",
    "            \"\"\"\n",
    "\n",
    "        # =====[ Use TemplateGenerator() to generate templates ]=====\n",
    "        self.tg.generate_sizes()\n",
    "        self.templates = self.tg.generate_templates()\n",
    "\n",
    "        # =====[ Instantiate FeatureGenerator ]=====\n",
    "        self.fg = FeatureGenerator(self.templates)\n",
    "\n",
    "        pos_images, neg_images = self._get_image_paths(dir_info[0], dir_info[1], dir_info[2])\n",
    "\n",
    "        # =====[ Create input matrix ]=====\n",
    "\n",
    "        print 'Total images to process: ', len(pos_images) + len(neg_images)\n",
    "        X = np.zeros((len(pos_images) + len(neg_images), len(self.templates) * self.cf.N_CHANNELS))\n",
    "        X = self._get_feature_matrix(X, pos_images, 0)\n",
    "        X = self._get_feature_matrix(X, neg_images, len(pos_images) - 1)\n",
    "        # X = pickle.load(open('backup_X.p','rb'))\n",
    "        print 'Obtained feature matrix with shape {}'.format(str(X.shape))\n",
    "\n",
    "        pickle.dump(X, open('backup_X.p', 'wb'))\n",
    "\n",
    "        # =====[ Create labels ]=====\n",
    "        Y = self._make_labels(len(pos_images), len(neg_images))\n",
    "\n",
    "        # =====[ If user specified a file name to save X, and Y to, pickle objects ]=====\n",
    "        if file_name:\n",
    "            pickle.dump({'input': X, 'labels': Y}, open(file_name, 'wb'))\n",
    "            print 'Successfully formulated and saved X and Y'\n",
    "\n",
    "        return X, Y\n",
    "\n",
    "    # def select_top_weights(self, X, Y, num_features=None, num_estimators=100, max_depth=2, model_name=None):\n",
    "    #     \"\"\"\n",
    "    #         Trains boosted trees in order to calculate feature importance and select top num_features\n",
    "    #\n",
    "    #         1) Instantiate classifier\n",
    "    #         2) Train classifier\n",
    "    #         3) Save classifier\n",
    "    #         4) Visualize feature weights\n",
    "    #         5) Return indices of features with highest importance\n",
    "    #\n",
    "    #         Input: X, Y, num_features, num_estimators, max_depth, model_name\n",
    "    #\n",
    "    #         - X: Input matrix (M training examples x N features)\n",
    "    #         - Y: Labels corresponding to M training examples\n",
    "    #\n",
    "    #         - num_features: number of indices to return for the top features. if no number specified, returns entire list of indices\n",
    "    #         - num_estimators: number of estimators to use for training\n",
    "    #         - maximum depth for each of the estimators\n",
    "    #         - model_name: string of name of the file to pickle the model to\n",
    "    #\n",
    "    #         Output: list of num_features indices for the most important features\n",
    "    #\n",
    "    #     \"\"\"\n",
    "    #\n",
    "    #     self.clf = Classifier(num_estimators, max_depth)\n",
    "    #     print '-----> About to train'\n",
    "    #     self.clf.train(X, Y)\n",
    "    #\n",
    "    #     # =====[ If user specified a model name to save clf, pickle object ]=====\n",
    "    #     if model_name:\n",
    "    #         pickle.dump(self.clf, open(model_name, 'wb'))\n",
    "    #\n",
    "    #     # =====[ Plot feature weights ]=====\n",
    "    #     self.clf.plot_ft_weights('feature_weights.png')\n",
    "\n",
    "    def detect(self, clf=None):\n",
    "        clf = pickle.load(open('top_ft_classifier_800.p', 'r'))\n",
    "        templates = pickle.load(open('top_templates_1000.p','r'))\n",
    "        fg = FeatureGenerator(templates)\n",
    "        self.detector = Detector(clf.clf, fg)\n",
    "        evaluator = Evaluator('INRIAPerson/Test', self.detector)\n",
    "        FPPI, miss_rate = evaluator.evaluate()\n",
    "        print 'FPPI: {}\\nMiss rate: {}'.format(FPPI, miss_rate)\n",
    "\n",
    "    def _get_feature_matrix(self, X, images, offset=0):\n",
    "        \"\"\" Append feature vectors for each training example in images to X \"\"\"\n",
    "\n",
    "        # =====[ Iterate through images and calculate feature vector for each ]=====\n",
    "        for idx, img in enumerate(images):\n",
    "\n",
    "            try:\n",
    "                cfeats = self.cf.compute_channels(cv2.imread(img))\n",
    "                feature_vec = self.fg.generate_features(cfeats)\n",
    "\n",
    "                # Add feature vector to input matrix\n",
    "                X[idx + offset, :] = feature_vec\n",
    "                print 'Successfully added image: ', idx + offset\n",
    "\n",
    "            except Exception as e:\n",
    "                print e\n",
    "                print 'Could not add image at index: ', idx + offset\n",
    "\n",
    "        return X\n",
    "\n",
    "    # {pos,neg}_filename is a text file with file in the base_dir. They are either 'test_us/...' or 'train_us/...'\n",
    "    def _get_image_paths(self, base_dir, pos_filename, neg_filename):\n",
    "        \"\"\" Get list of image paths in base_dir from each file_name \"\"\"\n",
    "\n",
    "        with open(path.join(base_dir, pos_filename)) as f:\n",
    "            pos_list = f.readlines()\n",
    "            pos_list = [base_dir + '/pos/' + x.strip() for x in pos_list]\n",
    "        with open(path.join(base_dir, neg_filename)) as f:\n",
    "            neg_list = f.readlines()\n",
    "            neg_list = [base_dir + '/neg/' + x.strip() for x in neg_list]\n",
    "\n",
    "        print 'Loaded {} positive image paths and {} negative image paths'.format(str(len(pos_list)),\n",
    "                                                                                  str(len(neg_list)))\n",
    "        return pos_list, neg_list\n",
    "\n",
    "    def _make_labels(self, n_pos, n_neg):\n",
    "        \"\"\" Takes number of positive and negative images and returns appropriate label vector \"\"\"\n",
    "\n",
    "        Y = np.zeros((n_pos + n_neg))\n",
    "        Y[:n_pos] = 1\n",
    "\n",
    "        return Y\n"
   ]
  },
  {
   "cell_type": "code",
   "execution_count": null,
   "metadata": {
    "collapsed": false,
    "scrolled": true
   },
   "outputs": [],
   "source": [
    "from template_generator import TemplateGenerator\n",
    "import pickle\n",
    "import sys\n",
    "sys.path.append('../')\n",
    "# from detector import Detector\n",
    "\n",
    "print \"BB Detection for full feature set classifier is about 7 minutes\"\n",
    "print \"BB Detection for small feature set classifier is about 2 minutes\"\n",
    "\n",
    "clf = pickle.load(open('../BoostedTreeclassifier_small.p','rb'))\n",
    "print \"%d Estimators Used\" % (len(clf.clf.estimator_weights_))\n",
    "print \"%d Features\" % (len(clf.clf.feature_importances_))\n",
    "\n",
    "tg = TemplateGenerator()\n",
    "tg.generate_sizes(w_max=3, h_max=2)\n",
    "templates = tg.generate_templates()\n",
    "# top_templates = pickle.load(open('top_templates.p','rb'))\n",
    "\n",
    "#=====[ Instantiate FeatureGenerator ]=====\n",
    "fg = FeatureGenerator(templates)\n",
    "\n",
    "d = Detector(clf.clf,fg)"
   ]
  },
  {
   "cell_type": "code",
   "execution_count": 212,
   "metadata": {
    "collapsed": false
   },
   "outputs": [],
   "source": [
    "cf = ChannelFeatures()\n",
    "features = cf.compute_channels(cv2.imread('crop001504.png'))"
   ]
  },
  {
   "cell_type": "code",
   "execution_count": 213,
   "metadata": {
    "collapsed": false
   },
   "outputs": [
    {
     "name": "stdout",
     "output_type": "stream",
     "text": [
      "2016-06-03 01:26:08.764195\n",
      "3\n",
      "Went through 14 total candidate BBs\n",
      "Went through 154 total candidate BBs\n",
      "Went through 1804 total candidate BBs\n",
      "2016-06-03 01:29:40.018272\n"
     ]
    }
   ],
   "source": [
    "import datetime\n",
    "import warnings\n",
    "warnings.filterwarnings(\"ignore\", category=DeprecationWarning)\n",
    "\n",
    "print datetime.datetime.now()\n",
    "cand_bbs, bbs = d.detect_pedestrians('crop001514.png')\n",
    "print datetime.datetime.now()"
   ]
  },
  {
   "cell_type": "code",
   "execution_count": 214,
   "metadata": {
    "collapsed": false
   },
   "outputs": [
    {
     "name": "stdout",
     "output_type": "stream",
     "text": [
      "77\n"
     ]
    }
   ],
   "source": [
    "scores = [bb[0] for bb in cand_bbs]\n",
    "print len(scores)"
   ]
  },
  {
   "cell_type": "code",
   "execution_count": 143,
   "metadata": {
    "collapsed": false
   },
   "outputs": [
    {
     "ename": "IndexError",
     "evalue": "too many indices for array",
     "output_type": "error",
     "traceback": [
      "\u001b[0;31m---------------------------------------------------------------------------\u001b[0m",
      "\u001b[0;31mIndexError\u001b[0m                                Traceback (most recent call last)",
      "\u001b[0;32m<ipython-input-143-b34460df79a7>\u001b[0m in \u001b[0;36m<module>\u001b[0;34m()\u001b[0m\n\u001b[1;32m      4\u001b[0m \u001b[0;32mfor\u001b[0m \u001b[0mbb\u001b[0m \u001b[0;32min\u001b[0m \u001b[0mcand_bbs\u001b[0m\u001b[0;34m[\u001b[0m\u001b[0;36m0\u001b[0m\u001b[0;34m]\u001b[0m\u001b[0;34m:\u001b[0m\u001b[0;34m\u001b[0m\u001b[0m\n\u001b[1;32m      5\u001b[0m     \u001b[0mbb\u001b[0m \u001b[0;34m=\u001b[0m \u001b[0mnp\u001b[0m\u001b[0;34m.\u001b[0m\u001b[0masarray\u001b[0m\u001b[0;34m(\u001b[0m\u001b[0mbb\u001b[0m\u001b[0;34m)\u001b[0m\u001b[0;34m\u001b[0m\u001b[0m\n\u001b[0;32m----> 6\u001b[0;31m     \u001b[0;32mif\u001b[0m \u001b[0mbb\u001b[0m\u001b[0;34m[\u001b[0m\u001b[0;36m0\u001b[0m\u001b[0;34m]\u001b[0m \u001b[0;34m>\u001b[0m \u001b[0;36m0.55\u001b[0m\u001b[0;34m:\u001b[0m\u001b[0;34m\u001b[0m\u001b[0m\n\u001b[0m\u001b[1;32m      7\u001b[0m         \u001b[0mtrue_bbs\u001b[0m\u001b[0;34m.\u001b[0m\u001b[0mappend\u001b[0m\u001b[0;34m(\u001b[0m\u001b[0;34m(\u001b[0m\u001b[0mbb\u001b[0m\u001b[0;34m[\u001b[0m\u001b[0;36m0\u001b[0m\u001b[0;34m]\u001b[0m\u001b[0;34m,\u001b[0m \u001b[0mbb\u001b[0m\u001b[0;34m[\u001b[0m\u001b[0;36m1\u001b[0m\u001b[0;34m]\u001b[0m\u001b[0;34m,\u001b[0m\u001b[0mbb\u001b[0m\u001b[0;34m[\u001b[0m\u001b[0;36m2\u001b[0m\u001b[0;34m]\u001b[0m\u001b[0;34m,\u001b[0m\u001b[0mbb\u001b[0m\u001b[0;34m[\u001b[0m\u001b[0;36m3\u001b[0m\u001b[0;34m]\u001b[0m\u001b[0;34m,\u001b[0m\u001b[0mbb\u001b[0m\u001b[0;34m[\u001b[0m\u001b[0;36m4\u001b[0m\u001b[0;34m]\u001b[0m\u001b[0;34m)\u001b[0m\u001b[0;34m)\u001b[0m\u001b[0;34m\u001b[0m\u001b[0m\n\u001b[1;32m      8\u001b[0m \u001b[0;34m\u001b[0m\u001b[0m\n",
      "\u001b[0;31mIndexError\u001b[0m: too many indices for array"
     ]
    }
   ],
   "source": [
    "# print '%d Bounding boxes extracted' % (len(cand_bbs))\n",
    "\n",
    "true_bbs = []\n",
    "for bb in cand_bbs[0]:\n",
    "    bb = np.asarray(bb)\n",
    "    if bb[0] > 0.55:\n",
    "        true_bbs.append((bb[0], bb[1],bb[2],bb[3],bb[4]))\n",
    "        \n",
    "print len(true_bbs)\n",
    "    \n"
   ]
  },
  {
   "cell_type": "code",
   "execution_count": 219,
   "metadata": {
    "collapsed": false
   },
   "outputs": [
    {
     "name": "stdout",
     "output_type": "stream",
     "text": [
      "9 Bounding Boxes after suppression\n",
      "Score is : 0.539699537812\n",
      "Score is : 0.534231050566\n",
      "Score is : 0.533224810163\n",
      "Score is : 0.527826257776\n",
      "Score is : 0.520701463409\n",
      "Score is : 0.518954848448\n",
      "Score is : 0.51606872784\n",
      "Score is : 0.514810624783\n",
      "Score is : 0.511566074542\n"
     ]
    },
    {
     "data": {
      "text/plain": [
       "True"
      ]
     },
     "execution_count": 219,
     "metadata": {},
     "output_type": "execute_result"
    }
   ],
   "source": [
    "bb = np.asarray(cand_bbs)\n",
    "\n",
    "nms_bb = nms.non_max_suppression(bb, overlapThresh=0.5)\n",
    "print '%d Bounding Boxes after suppression' % (len(nms_bb))\n",
    "\n",
    "\n",
    "img = cv2.imread('resized_img.jpeg')\n",
    "img = cv2.resize(img,(img.shape[1]*4,img.shape[0]*4))\n",
    "for box in nms_bb:\n",
    "    print 'Score is :', box[0]\n",
    "    cv2.rectangle(img,(int(box[2])*4,int(box[1])*4),(int(box[2]+box[4])*4,int(box[1]+box[3])*4),(0,255,0),3)    \n",
    "\n",
    "cv2.imwrite('saved_img1_6.jpeg',img)"
   ]
  },
  {
   "cell_type": "code",
   "execution_count": null,
   "metadata": {
    "collapsed": true
   },
   "outputs": [],
   "source": []
  },
  {
   "cell_type": "code",
   "execution_count": null,
   "metadata": {
    "collapsed": true
   },
   "outputs": [],
   "source": []
  }
 ],
 "metadata": {
  "kernelspec": {
   "display_name": "Python 2",
   "language": "python",
   "name": "python2"
  },
  "language_info": {
   "codemirror_mode": {
    "name": "ipython",
    "version": 2
   },
   "file_extension": ".py",
   "mimetype": "text/x-python",
   "name": "python",
   "nbconvert_exporter": "python",
   "pygments_lexer": "ipython2",
   "version": "2.7.11"
  }
 },
 "nbformat": 4,
 "nbformat_minor": 0
}
