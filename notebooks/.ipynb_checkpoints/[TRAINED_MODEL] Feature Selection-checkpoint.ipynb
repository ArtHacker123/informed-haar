{
 "cells": [
  {
   "cell_type": "code",
   "execution_count": 133,
   "metadata": {
    "collapsed": false
   },
   "outputs": [
    {
     "name": "stdout",
     "output_type": "stream",
     "text": [
      "The autoreload extension is already loaded. To reload it, use:\n",
      "  %reload_ext autoreload\n"
     ]
    }
   ],
   "source": [
    "%load_ext autoreload\n",
    "%autoreload 2\n",
    "\n",
    "import sys\n",
    "sys.path.append('../')\n",
    "\n",
    "%matplotlib inline\n",
    "\n",
    "import matplotlib.pyplot as plt\n",
    "import matplotlib\n",
    "from mpl_toolkits.axes_grid1 import make_axes_locatable\n"
   ]
  },
  {
   "cell_type": "code",
   "execution_count": 134,
   "metadata": {
    "collapsed": false
   },
   "outputs": [],
   "source": [
    "import pickle\n",
    "\n",
    "clf = pickle.load(open('../BoostedTreeclassifier_small.p','rb'))"
   ]
  },
  {
   "cell_type": "code",
   "execution_count": 135,
   "metadata": {
    "collapsed": false
   },
   "outputs": [],
   "source": [
    "def plot_ft_weights(clf, file_name):\n",
    "\n",
    "    # Get corresponding template information for each feature\n",
    "    feature_info = pickle.load(open('feature_info.p','r'))\n",
    "    w_viz = np.zeros((11,20,10))\n",
    "    w_viz_total = np.zeros((20,10))\n",
    "    \n",
    "    f = plt.gcf()\n",
    "    f.set_figheight(15)\n",
    "    f.set_figwidth(15)\n",
    "        \n",
    "\n",
    "    # Sum weights from each feature corresponding to cells in our templates\n",
    "    for idx, weight in enumerate(clf.feature_importances_):\n",
    "        x, y, size, k = feature_info[idx]\n",
    "        w,h = size\n",
    "        w_viz[k, y:y+h, x:x+w] += weight\n",
    "        w_viz_total[y:y+h, x:x+w] += weight\n",
    "\n",
    "#     # Normalize weight visualization matrix and display\n",
    "    for k in range(0):\n",
    "        \n",
    "        W = w_viz[k,:,:]/np.max(w_viz[k,:,:])\n",
    "        plt.subplot(4,3,k+1)\n",
    "        nr, nc = W.shape \n",
    "        extent = [-0.5, nc-0.5, nr-0.5, -0.5] \n",
    "        plt.imshow(W, extent=extent, origin='upper') \n",
    "        \n",
    "    return w_viz_total/np.max(w_viz_total)\n",
    "#         plt.title('Feature Importances')\n",
    "\n",
    "#         ax = plt.gca() \n",
    "\n",
    "#         # create an axes on the right side of ax. The width of cax will be 5%\n",
    "#         # of ax and the padding between cax and ax will be fixed at 0.05 inch.\n",
    "#         divider = make_axes_locatable(ax)\n",
    "#         cax = divider.append_axes(\"right\", size=\"5%\", pad=0.05)\n",
    "\n",
    "#         plt.colorbar(im, cax=cax)\n",
    "#         plt.savefig(file_name)"
   ]
  },
  {
   "cell_type": "code",
   "execution_count": 136,
   "metadata": {
    "collapsed": false
   },
   "outputs": [
    {
     "data": {
      "text/plain": [
       "<matplotlib.figure.Figure at 0x110b74e10>"
      ]
     },
     "metadata": {},
     "output_type": "display_data"
    }
   ],
   "source": [
    "w_viz = plot_ft_weights(clf.clf,None)"
   ]
  },
  {
   "cell_type": "code",
   "execution_count": 137,
   "metadata": {
    "collapsed": false
   },
   "outputs": [
    {
     "data": {
      "text/plain": [
       "<matplotlib.colorbar.Colorbar at 0x111420750>"
      ]
     },
     "execution_count": 137,
     "metadata": {},
     "output_type": "execute_result"
    },
    {
     "data": {
      "image/png": "[encoded data removed]",
      "text/plain": [
       "<matplotlib.figure.Figure at 0x110ac5310>"
      ]
     },
     "metadata": {},
     "output_type": "display_data"
    }
   ],
   "source": [
    "im = plt.matshow(w_viz)\n",
    "ax = plt.gca() \n",
    "plt.title('Feature Importances')\n",
    "\n",
    "\n",
    "divider = make_axes_locatable(ax)\n",
    "cax = divider.append_axes(\"right\", size=\"5%\", pad=0.05)\n",
    "\n",
    "plt.colorbar(im, cax=cax)\n"
   ]
  },
  {
   "cell_type": "code",
   "execution_count": null,
   "metadata": {
    "collapsed": true
   },
   "outputs": [],
   "source": []
  }
 ],
 "metadata": {
  "kernelspec": {
   "display_name": "Python 2",
   "language": "python",
   "name": "python2"
  },
  "language_info": {
   "codemirror_mode": {
    "name": "ipython",
    "version": 2
   },
   "file_extension": ".py",
   "mimetype": "text/x-python",
   "name": "python",
   "nbconvert_exporter": "python",
   "pygments_lexer": "ipython2",
   "version": "2.7.11"
  }
 },
 "nbformat": 4,
 "nbformat_minor": 0
}
