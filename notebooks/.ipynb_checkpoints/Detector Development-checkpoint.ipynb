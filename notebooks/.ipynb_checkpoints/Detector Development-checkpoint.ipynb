{
 "cells": [
  {
   "cell_type": "markdown",
   "metadata": {},
   "source": [
    "# Import Dependencies"
   ]
  },
  {
   "cell_type": "code",
   "execution_count": 3,
   "metadata": {
    "collapsed": false
   },
   "outputs": [
    {
     "name": "stdout",
     "output_type": "stream",
     "text": [
      "The autoreload extension is already loaded. To reload it, use:\n",
      "  %reload_ext autoreload\n"
     ]
    }
   ],
   "source": [
    "%load_ext autoreload\n",
    "%autoreload 2\n",
    "\n",
    "import sys\n",
    "sys.path.append('../')\n",
    "import numpy as np\n",
    "import cv2\n",
    "import imutils\n",
    "\n",
    "from ChannelFeatures import ChannelFeatures\n",
    "from feature_gen import FeatureGenerator\n",
    "import nms"
   ]
  },
  {
   "cell_type": "markdown",
   "metadata": {},
   "source": [
    "# Detector Class"
   ]
  },
  {
   "cell_type": "code",
   "execution_count": 8,
   "metadata": {
    "collapsed": false
   },
   "outputs": [],
   "source": [
    "class Detector():\n",
    "    \"\"\" \n",
    "        The Detector class is used to detect pedestrians in images by locating bounding boxes with high probabilities\n",
    "        containing a pedestrian \n",
    "    \"\"\"\n",
    "\n",
    "    def __init__(self, clf, fg, window_size=(120,60), scaling_factor=1.2, scaling_iters=3, window_step=6):\n",
    "        \"\"\" Instantiates the detector class:\n",
    "\n",
    "            Input: weight_indices, weights, window_size, scaling_factor, scaling_iters, window_step\n",
    "\n",
    "            - weight_indices: the indices of the features that will be used to score a window in the image\n",
    "            - weights: the weights used to compute a score for a feature vector associated with a window in the image\n",
    "            - fg: FeatureGenerator() object used to generate feature vectors for window in an image\n",
    "            - window_size: the size of the sliding window defaults to 120 x 60\n",
    "            - scaling_factor: factor by which we scale the image on each successive scaling iteration\n",
    "            - scaling_iters: the number of times we scale the image\n",
    "            - window_step: the amount of pixels stepped over on each slide of the window\n",
    "        \"\"\"\n",
    "\n",
    "        self.clf = clf\n",
    "        self.window_size = window_size\n",
    "        self.window_step = window_step\n",
    "\n",
    "        self.scaling_factor = scaling_factor\n",
    "        self.scaling_iters = scaling_iters\n",
    "\n",
    "        self.cf = ChannelFeatures()\n",
    "        self.fg = fg\n",
    "\n",
    "    def detect_pedestrians(self, img_path):\n",
    "        \"\"\"\n",
    "            Detects pedestrians in an image.\n",
    "\n",
    "            1) Slides bounding box window over the image\n",
    "            2) Computes detection score using weights from boosted tree classifier\n",
    "            3) Keeps the bounding box if the score is above a certain threshold\n",
    "            4) Runs non-maximal suppression (NMS) on bounding boxes\n",
    "\n",
    "            Input: img_path\n",
    "\n",
    "            - img_path: path to image file\n",
    "\n",
    "            Output: list of bounding boxes and scores \n",
    "\n",
    "        \"\"\"\n",
    "\n",
    "        candidate_bbs = self._get_bounding_boxes(img_path)\n",
    "        bbs = nms.non_max_suppression(np.asarray(candidate_bbs), overlapThresh=0.3)\n",
    "        return candidate_bbs, bbs\n",
    "\n",
    "\n",
    "\n",
    "\n",
    "    def _get_bounding_boxes(self, img_path, start_h=120, start_w=60):\n",
    "        \"\"\" \n",
    "            Returns 2D array of bounding boxes (M bounding boxes x 5 characteristics per bounding box)\n",
    "        \"\"\"\n",
    "\n",
    "        bounding_boxes = []\n",
    "\n",
    "\n",
    "        img = cv2.imread(img_path)\n",
    "        oheight, owidth, channels = img.shape\n",
    "\n",
    "        if oheight/start_h > owidth/start_w:\n",
    "            img = imutils.resize(img, width=min(start_w,img.shape[1]))\n",
    "        else:\n",
    "            img = imutils.resize(img, height=min(start_h,img.shape[0]))\n",
    "\n",
    "        cv2.imwrite('resized_img.jpeg',img)\n",
    "\n",
    "        oheight, owidth, channels = img.shape\n",
    "        win_h, win_w = self.window_size\n",
    "\n",
    "        count = 0\n",
    "        print self.scaling_iters\n",
    "\n",
    "        #=====[ Collect bounding boxes for each scaling iteration ]=====\n",
    "        for it_num in range(self.scaling_iters):\n",
    "\n",
    "            #=====[ Scale image if not on first iteration ]=====\n",
    "            if it_num > 0:\n",
    "                img = cv2.resize(img,(int(it_num*self.scaling_factor*owidth), int(it_num*self.scaling_factor*oheight)))\n",
    "\n",
    "            height, width, _ = img.shape\n",
    "\n",
    "            y_range = (height - win_h)/self.window_step + 1\n",
    "            x_range = (width - win_w)/self.window_step + 1\n",
    "\n",
    "            cfeats = self.cf.compute_channels(img)\n",
    "            features = self.fg.generate_features(cfeats[y:y+win_h,x:x+win_w])\n",
    "\n",
    "            print \"height:\", height, \"    width:\", width\n",
    "            print y_range, x_range\n",
    "\n",
    "            #=====[ Slide window across entirety of image and calculate bounding box at each step ]=====\n",
    "            for y in range(y_range):\n",
    "                for x in range(x_range):\n",
    "\n",
    "                    y_pix = y*self.window_step\n",
    "                    x_pix = x*self.window_step\n",
    "\n",
    "                    #=====[ Score the bounding box ]=====\n",
    "                    feature_vec = np.asarray(self.fg.generate_features(cfeats[y:y+win_h,x:x+win_w]))\n",
    "\n",
    "                    score = self.clf.predict_proba([feature_vec])[0,1]\n",
    "\n",
    "                    #=====[ Scale and store bounding box ]=====\n",
    "                    scale = self.scaling_factor*it_num if it_num else 1\n",
    "                    count += 1\n",
    "\n",
    "                    if score > 0.5:\n",
    "                        bounding_boxes.append([score, y_pix/scale, x_pix/scale, win_h/scale, win_w/scale])\n",
    "\n",
    "\n",
    "            print 'Went through %d total candidate BBs' %(count)\n",
    "        return np.matrix(bounding_boxes)\n",
    "\n",
    "    def _calculate_total_iters(self, img):\n",
    "        \"\"\" Calculates total number of bounding box scores to be calculated \"\"\"\n",
    "\n",
    "        oheight, owidth, channels = img.shape\n",
    "        win_h, win_w = self.window_size\n",
    "\n",
    "        iters = 0\n",
    "\n",
    "        for it_num in range(self.scaling_iters):\n",
    "\n",
    "            #=====[ Scale image if not on first iteration ]=====\n",
    "            if it_num > 0:\n",
    "                img = cv2.resize(img,(int(it_num*self.scaling_factor*owidth), int(it_num*self.scaling_factor*oheight)))\n",
    "\n",
    "            height, width, _ = img.shape\n",
    "\n",
    "            y_range = (height - win_h)/self.window_step + 1\n",
    "            x_range = (width - win_w)/self.window_step + 1\n",
    "\n",
    "            iters += y_range*x_range\n",
    "\n",
    "        return iters"
   ]
  },
  {
   "cell_type": "code",
   "execution_count": 9,
   "metadata": {
    "collapsed": false
   },
   "outputs": [
    {
     "name": "stdout",
     "output_type": "stream",
     "text": [
      "BB Detection for full feature set classifier is about 7 minutes\n",
      "BB Detection for small feature set classifier is about 2 minutes\n",
      "200 Estimators Used\n",
      "10450 Features\n",
      "Created 950 templates\n",
      "[]\n"
     ]
    }
   ],
   "source": [
    "from template_generator import TemplateGenerator\n",
    "import pickle\n",
    "import sys\n",
    "sys.path.append('../')\n",
    "# from detector import Detector\n",
    "\n",
    "print \"BB Detection for full feature set classifier is about 7 minutes\"\n",
    "print \"BB Detection for small feature set classifier is about 2 minutes\"\n",
    "\n",
    "clf = pickle.load(open('../BoostedTreeclassifier.p','rb'))\n",
    "print \"%d Estimators Used\" % (len(clf.clf.estimator_weights_))\n",
    "print \"%d Features\" % (len(clf.clf.feature_importances_))\n",
    "\n",
    "tg = TemplateGenerator()\n",
    "tg.generate_sizes()\n",
    "# tg.generate_sizes()\n",
    "templates = tg.generate_templates()\n",
    "tg.generate_features()\n",
    "\n",
    "#=====[ Instantiate FeatureGenerator ]=====\n",
    "fg = FeatureGenerator(templates)\n",
    "print fg.feature_info\n",
    "\n",
    "d = Detector(clf.clf,fg)"
   ]
  },
  {
   "cell_type": "code",
   "execution_count": 10,
   "metadata": {
    "collapsed": false
   },
   "outputs": [],
   "source": [
    "cf = ChannelFeatures()\n",
    "features = cf.compute_channels(cv2.imread('crop001504.png'))"
   ]
  },
  {
   "cell_type": "code",
   "execution_count": 37,
   "metadata": {
    "collapsed": false
   },
   "outputs": [
    {
     "name": "stdout",
     "output_type": "stream",
     "text": [
      "2016-06-01 14:32:32.665272\n",
      "3\n",
      "Went through 17 total candidate BBs\n",
      "Went through 192 total candidate BBs\n",
      "Went through 2172 total candidate BBs\n",
      "2016-06-01 14:37:30.425883\n"
     ]
    }
   ],
   "source": [
    "import datetime\n",
    "import warnings\n",
    "warnings.filterwarnings(\"ignore\", category=DeprecationWarning)\n",
    "\n",
    "print datetime.datetime.now()\n",
    "cand_bbs = d.detect_pedestrians('../ped_image.jpeg')\n",
    "print datetime.datetime.now()"
   ]
  },
  {
   "cell_type": "code",
   "execution_count": 42,
   "metadata": {
    "collapsed": false
   },
   "outputs": [
    {
     "name": "stdout",
     "output_type": "stream",
     "text": [
      "2172 Bounding boxes extracted\n",
      "62\n"
     ]
    }
   ],
   "source": [
    "print '%d Bounding boxes extracted' % (len(cand_bbs))\n",
    "true_bbs = []\n",
    "for bb in cand_bbs:\n",
    "    bb = np.asarray(bb[0])\n",
    "    if bb[0][0] > 0.51:\n",
    "        true_bbs.append((bb[0][0], bb[0][1],bb[0][2],bb[0][3],bb[0][4]))\n",
    "        \n",
    "print len(true_bbs)\n",
    "    \n"
   ]
  },
  {
   "cell_type": "code",
   "execution_count": 43,
   "metadata": {
    "collapsed": false
   },
   "outputs": [
    {
     "name": "stdout",
     "output_type": "stream",
     "text": [
      "4 Bounding Boxes after suppression\n",
      "Score is : 0.547428661207\n",
      "Score is : 0.530684031356\n",
      "Score is : 0.527518174665\n",
      "Score is : 0.51561189089\n"
     ]
    },
    {
     "data": {
      "text/plain": [
       "True"
      ]
     },
     "execution_count": 43,
     "metadata": {},
     "output_type": "execute_result"
    }
   ],
   "source": [
    "bb = np.asarray(true_bbs)\n",
    "\n",
    "nms_bb = nms.non_max_suppression(bb, overlapThresh=0.1)\n",
    "print '%d Bounding Boxes after suppression' % (len(nms_bb))\n",
    "\n",
    "\n",
    "img = cv2.imread('resized_img.jpeg')\n",
    "img = cv2.resize(img,(img.shape[1]*4,img.shape[0]*4))\n",
    "for box in nms_bb:\n",
    "    print 'Score is :', box[0]\n",
    "    cv2.rectangle(img,(int(box[2])*4,int(box[1])*4),(int(box[2]+box[4])*4,int(box[1]+box[3])*4),(0,255,0),3)    \n",
    "\n",
    "cv2.imwrite('saved_img1_6.jpeg',img)"
   ]
  },
  {
   "cell_type": "code",
   "execution_count": 36,
   "metadata": {
    "collapsed": false
   },
   "outputs": [
    {
     "name": "stdout",
     "output_type": "stream",
     "text": [
      "Classifier Development.ipynb             feature_weights.png\r\n",
      "Detector Development.ipynb               features.p\r\n",
      "Feature Vector Generation.ipynb          resized_img.jpeg\r\n",
      "Template Development.ipynb               saved_img.jpeg\r\n",
      "[END2END] Feature Extraction.ipynb       saved_img1.jpeg\r\n",
      "[TRAINED_MODEL] Feature Selection.ipynb  saved_img1_3.jpeg\r\n",
      "crop001501.png                           saved_img1_4.jpeg\r\n",
      "crop001504.png                           saved_img1_5.jpeg\r\n",
      "feature_importances.png                  saved_img2.jpeg\r\n",
      "feature_info.p                           saved_img3.jpeg\r\n"
     ]
    }
   ],
   "source": [
    "ls"
   ]
  },
  {
   "cell_type": "code",
   "execution_count": null,
   "metadata": {
    "collapsed": true
   },
   "outputs": [],
   "source": []
  }
 ],
 "metadata": {
  "kernelspec": {
   "display_name": "Python 2",
   "language": "python",
   "name": "python2"
  },
  "language_info": {
   "codemirror_mode": {
    "name": "ipython",
    "version": 2
   },
   "file_extension": ".py",
   "mimetype": "text/x-python",
   "name": "python",
   "nbconvert_exporter": "python",
   "pygments_lexer": "ipython2",
   "version": "2.7.11"
  }
 },
 "nbformat": 4,
 "nbformat_minor": 0
}
