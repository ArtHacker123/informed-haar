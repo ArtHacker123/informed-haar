{
 "cells": [
  {
   "cell_type": "markdown",
   "metadata": {},
   "source": [
    "# Import Dependencies"
   ]
  },
  {
   "cell_type": "code",
   "execution_count": 69,
   "metadata": {
    "collapsed": false
   },
   "outputs": [
    {
     "name": "stdout",
     "output_type": "stream",
     "text": [
      "The autoreload extension is already loaded. To reload it, use:\n",
      "  %reload_ext autoreload\n"
     ]
    }
   ],
   "source": [
    "%load_ext autoreload\n",
    "%autoreload 2\n",
    "\n",
    "import sys\n",
    "sys.path.append('../')\n",
    "import numpy as np\n",
    "import cv2\n",
    "\n",
    "from ChannelFeatures import ChannelFeatures\n",
    "from feature_generator import FeatureGenerator\n",
    "import nms"
   ]
  },
  {
   "cell_type": "markdown",
   "metadata": {},
   "source": [
    "# Detector Class"
   ]
  },
  {
   "cell_type": "code",
   "execution_count": 39,
   "metadata": {
    "collapsed": true
   },
   "outputs": [],
   "source": [
    "class Detector():\n",
    "    \"\"\" \n",
    "        The Detector class is used to detect pedestrians in images by locating bounding boxes with high probabilities\n",
    "        containing a pedestrian \n",
    "    \"\"\"\n",
    "\n",
    "    def __init__(self, clf, fg, window_size=(120,60), scaling_factor=1.2, scaling_iters=3, window_step=24):\n",
    "        \"\"\" Instantiates the detector class:\n",
    "        \n",
    "            Input: weight_indices, weights, window_size, scaling_factor, scaling_iters, window_step\n",
    "            \n",
    "            - weight_indices: the indices of the features that will be used to score a window in the image\n",
    "            - weights: the weights used to compute a score for a feature vector associated with a window in the image\n",
    "            - fg: FeatureGenerator() object used to generate feature vectors for window in an image\n",
    "            - window_size: the size of the sliding window defaults to 120 x 60\n",
    "            - scaling_factor: factor by which we scale the image on each successive scaling iteration\n",
    "            - scaling_iters: the number of times we scale the image\n",
    "            - window_step: the amount of pixels stepped over on each slide of the window\n",
    "        \"\"\"\n",
    "\n",
    "        self.clf = clf\n",
    "        self.window_size = window_size\n",
    "        self.window_step = window_step\n",
    "\n",
    "        self.scaling_factor = scaling_factor\n",
    "        self.scaling_iters = scaling_iters\n",
    "\n",
    "        self.cf = ChannelFeatures()\n",
    "        self.fg = fg\n",
    "\n",
    "    def detect_pedestrians(self, img_path):\n",
    "        \"\"\"\n",
    "            Detects pedestrians in an image.\n",
    "\n",
    "            1) Slides bounding box window over the image\n",
    "            2) Computes detection score using weights from boosted tree classifier\n",
    "            3) Keeps the bounding box if the score is above a certain threshold\n",
    "            4) Runs non-maximal suppression (NMS) on bounding boxes\n",
    "\n",
    "            Input: img_path\n",
    "\n",
    "            - img_path: path to image file\n",
    "\n",
    "            Output: list of bounding boxes and scores \n",
    "\n",
    "        \"\"\"\n",
    "        \n",
    "        candidate_bbs = self._get_bounding_boxes(img_path)\n",
    "        bbs = nms.non_max_suppresion(candidate_bbs, overlapThresh=0.5)\n",
    "        return bbs\n",
    "        \n",
    "\n",
    "       \n",
    "        \n",
    "    def _get_bounding_boxes(self, img_path):\n",
    "        \"\"\" \n",
    "            Returns 2D array of bounding boxes (M bounding boxes x 5 characteristics per bounding box)\n",
    "        \"\"\"\n",
    "        \n",
    "        bounding_boxes = []\n",
    "\n",
    "        img = cv2.imread(img_path)\n",
    "\n",
    "        oheight, owidth, channels = img.shape\n",
    "        win_h, win_w = self.window_size\n",
    "        \n",
    "        total_iters = self._calculate_total_iters(img)\n",
    "        count = 0\n",
    "        print \"%d Total Iterations\" % (total_iters)\n",
    "        \n",
    "        #=====[ Collect bounding boxes for each scaling iteration ]=====\n",
    "        for it_num in range(self.scaling_iters):\n",
    "\n",
    "            #=====[ Scale image if not on first iteration ]=====\n",
    "            if it_num > 0:\n",
    "                img = cv2.resize(img,(int(it_num*self.scaling_factor*owidth), int(it_num*self.scaling_factor*oheight)))\n",
    "\n",
    "            height, width, _ = img.shape\n",
    "\n",
    "            y_range = (height - win_h)/self.window_step + 1\n",
    "            x_range = (width - win_w)/self.window_step + 1\n",
    "            \n",
    "            cfeats = self.cf.compute_channels(img)\n",
    "\n",
    "            #=====[ Slide window across entirety of image and calculate bounding box at each step ]=====\n",
    "            for y in range(y_range):\n",
    "                for x in range(x_range):\n",
    "\n",
    "                    y_pix = y*self.window_step\n",
    "                    x_pix = x*self.window_step\n",
    "\n",
    "                    #=====[ Score the bounding box ]=====\n",
    "                    feature_vec = np.asarray(self.fg.generate_features(cfeats[y:y+win_h,x:x+win_w]))\n",
    "                    score = self.clf.predict(feature_vec)\n",
    "\n",
    "                    #=====[ Scale and store bounding box ]=====\n",
    "                    scale = self.scaling_factor*it_num if it_num else 1\n",
    "                    bounding_boxes.append([score, y_pix/scale, x_pix/scale, win_h/scale, win_w/scale])\n",
    "\n",
    "\n",
    "            return np.matrix(bounding_boxes)\n",
    "        \n",
    "    def _calculate_total_iters(self, img):\n",
    "        \"\"\" Calculates total number of bounding box scores to be calculated \"\"\"\n",
    "        \n",
    "        oheight, owidth, channels = img.shape\n",
    "        win_h, win_w = self.window_size\n",
    "        \n",
    "        iters = 0\n",
    "        \n",
    "        for it_num in range(self.scaling_iters):\n",
    "\n",
    "            #=====[ Scale image if not on first iteration ]=====\n",
    "            if it_num > 0:\n",
    "                img = cv2.resize(img,(int(it_num*self.scaling_factor*owidth), int(it_num*self.scaling_factor*oheight)))\n",
    "\n",
    "            height, width, _ = img.shape\n",
    "\n",
    "            y_range = (height - win_h)/self.window_step + 1\n",
    "            x_range = (width - win_w)/self.window_step + 1\n",
    "            \n",
    "            iters += y_range*x_range\n",
    "        \n",
    "        return iters"
   ]
  },
  {
   "cell_type": "code",
   "execution_count": 43,
   "metadata": {
    "collapsed": false
   },
   "outputs": [
    {
     "name": "stdout",
     "output_type": "stream",
     "text": [
      "2000 Estimators Used\n",
      "24926 Features\n",
      "Created 2266 templates\n"
     ]
    }
   ],
   "source": [
    "from template_generator import TemplateGenerator\n",
    "import pickle\n",
    "import sys\n",
    "sys.path.append('../')\n",
    "\n",
    "print \"BB Detection for full feature set classifier is about 7 minutes\"\n",
    "print \"BB Detection for small feature set classifier is about 2 minutes\"\n",
    "\n",
    "clf = pickle.load(open('../BoostedTreeclassifier_small.p','rb'))\n",
    "print \"%d Estimators Used\" % (len(clf.clf.estimator_weights_))\n",
    "print \"%d Features\" % (len(clf.clf.feature_importances_))\n",
    "\n",
    "tg = TemplateGenerator()\n",
    "tg.generate_sizes(w_max=3, h_max=2)\n",
    "# tg.generate_sizes()\n",
    "templates = tg.generate_templates()\n",
    "\n",
    "#=====[ Instantiate FeatureGenerator ]=====\n",
    "fg = FeatureGenerator(templates)\n",
    "\n",
    "d = Detector(clf.clf,fg)"
   ]
  },
  {
   "cell_type": "code",
   "execution_count": 44,
   "metadata": {
    "collapsed": false
   },
   "outputs": [
    {
     "name": "stdout",
     "output_type": "stream",
     "text": [
      "2016-05-31 15:22:31.822488\n",
      "12015 Total Iterations\n",
      "2016-05-31 15:29:34.049866\n"
     ]
    }
   ],
   "source": [
    "import datetime\n",
    "import warnings\n",
    "warnings.filterwarnings(\"ignore\", category=DeprecationWarning)\n",
    "\n",
    "print datetime.datetime.now()\n",
    "bb_large = d.detect_pedestrians('../image.png')\n",
    "print datetime.datetime.now()"
   ]
  },
  {
   "cell_type": "code",
   "execution_count": 45,
   "metadata": {
    "collapsed": false
   },
   "outputs": [
    {
     "name": "stdout",
     "output_type": "stream",
     "text": [
      "1334\n",
      "1334\n"
     ]
    }
   ],
   "source": [
    "print len(bb)\n",
    "print len(bb_large)"
   ]
  },
  {
   "cell_type": "code",
   "execution_count": 70,
   "metadata": {
    "collapsed": false
   },
   "outputs": [
    {
     "name": "stdout",
     "output_type": "stream",
     "text": [
      "2016-05-31 15:35:27.022889\n"
     ]
    },
    {
     "ename": "NameError",
     "evalue": "global name 'x1' is not defined",
     "output_type": "error",
     "traceback": [
      "\u001b[0;31m---------------------------------------------------------------------------\u001b[0m",
      "\u001b[0;31mNameError\u001b[0m                                 Traceback (most recent call last)",
      "\u001b[0;32m<ipython-input-70-ee60fc528c6f>\u001b[0m in \u001b[0;36m<module>\u001b[0;34m()\u001b[0m\n\u001b[1;32m      1\u001b[0m \u001b[0;32mprint\u001b[0m \u001b[0mdatetime\u001b[0m\u001b[0;34m.\u001b[0m\u001b[0mdatetime\u001b[0m\u001b[0;34m.\u001b[0m\u001b[0mnow\u001b[0m\u001b[0;34m(\u001b[0m\u001b[0;34m)\u001b[0m\u001b[0;34m\u001b[0m\u001b[0m\n\u001b[0;32m----> 2\u001b[0;31m \u001b[0mnms_bb\u001b[0m \u001b[0;34m=\u001b[0m \u001b[0mnms\u001b[0m\u001b[0;34m.\u001b[0m\u001b[0mnon_max_suppression\u001b[0m\u001b[0;34m(\u001b[0m\u001b[0mbb\u001b[0m\u001b[0;34m,\u001b[0m \u001b[0moverlapThresh\u001b[0m\u001b[0;34m=\u001b[0m\u001b[0;36m0.5\u001b[0m\u001b[0;34m)\u001b[0m\u001b[0;34m\u001b[0m\u001b[0m\n\u001b[0m\u001b[1;32m      3\u001b[0m \u001b[0;32mprint\u001b[0m \u001b[0mdatetime\u001b[0m\u001b[0;34m.\u001b[0m\u001b[0mdatetime\u001b[0m\u001b[0;34m.\u001b[0m\u001b[0mnow\u001b[0m\u001b[0;34m(\u001b[0m\u001b[0;34m)\u001b[0m\u001b[0;34m\u001b[0m\u001b[0m\n",
      "\u001b[0;32m/Users/Brandon/Desktop/Stanford/Classes/cs231a/informed-haar/nms.py\u001b[0m in \u001b[0;36mnon_max_suppression\u001b[0;34m(boxes, overlapThresh)\u001b[0m\n\u001b[1;32m     41\u001b[0m         \u001b[0;31m# the bounding box and the smallest (x, y) coordinates\u001b[0m\u001b[0;34m\u001b[0m\u001b[0;34m\u001b[0m\u001b[0m\n\u001b[1;32m     42\u001b[0m         \u001b[0;31m# for the end of the bounding box\u001b[0m\u001b[0;34m\u001b[0m\u001b[0;34m\u001b[0m\u001b[0m\n\u001b[0;32m---> 43\u001b[0;31m         \u001b[0mxx1\u001b[0m \u001b[0;34m=\u001b[0m \u001b[0mnp\u001b[0m\u001b[0;34m.\u001b[0m\u001b[0mmaximum\u001b[0m\u001b[0;34m(\u001b[0m\u001b[0mx1\u001b[0m\u001b[0;34m[\u001b[0m\u001b[0mi\u001b[0m\u001b[0;34m]\u001b[0m\u001b[0;34m,\u001b[0m \u001b[0mx1\u001b[0m\u001b[0;34m[\u001b[0m\u001b[0midxs\u001b[0m\u001b[0;34m[\u001b[0m\u001b[0;34m:\u001b[0m\u001b[0mlast\u001b[0m\u001b[0;34m]\u001b[0m\u001b[0;34m]\u001b[0m\u001b[0;34m)\u001b[0m\u001b[0;34m\u001b[0m\u001b[0m\n\u001b[0m\u001b[1;32m     44\u001b[0m         \u001b[0myy1\u001b[0m \u001b[0;34m=\u001b[0m \u001b[0mnp\u001b[0m\u001b[0;34m.\u001b[0m\u001b[0mmaximum\u001b[0m\u001b[0;34m(\u001b[0m\u001b[0my1\u001b[0m\u001b[0;34m[\u001b[0m\u001b[0mi\u001b[0m\u001b[0;34m]\u001b[0m\u001b[0;34m,\u001b[0m \u001b[0my1\u001b[0m\u001b[0;34m[\u001b[0m\u001b[0midxs\u001b[0m\u001b[0;34m[\u001b[0m\u001b[0;34m:\u001b[0m\u001b[0mlast\u001b[0m\u001b[0;34m]\u001b[0m\u001b[0;34m]\u001b[0m\u001b[0;34m)\u001b[0m\u001b[0;34m\u001b[0m\u001b[0m\n\u001b[1;32m     45\u001b[0m         \u001b[0mxx2\u001b[0m \u001b[0;34m=\u001b[0m \u001b[0mnp\u001b[0m\u001b[0;34m.\u001b[0m\u001b[0mminimum\u001b[0m\u001b[0;34m(\u001b[0m\u001b[0mx2\u001b[0m\u001b[0;34m[\u001b[0m\u001b[0mi\u001b[0m\u001b[0;34m]\u001b[0m\u001b[0;34m,\u001b[0m \u001b[0mx2\u001b[0m\u001b[0;34m[\u001b[0m\u001b[0midxs\u001b[0m\u001b[0;34m[\u001b[0m\u001b[0;34m:\u001b[0m\u001b[0mlast\u001b[0m\u001b[0;34m]\u001b[0m\u001b[0;34m]\u001b[0m\u001b[0;34m)\u001b[0m\u001b[0;34m\u001b[0m\u001b[0m\n",
      "\u001b[0;31mNameError\u001b[0m: global name 'x1' is not defined"
     ]
    }
   ],
   "source": [
    "print datetime.datetime.now()\n",
    "nms_bb = nms.non_max_suppression(bb, overlapThresh=0.5)\n",
    "print datetime.datetime.now()"
   ]
  },
  {
   "cell_type": "code",
   "execution_count": 67,
   "metadata": {
    "collapsed": false
   },
   "outputs": [
    {
     "data": {
      "text/plain": [
       "1334"
      ]
     },
     "execution_count": 67,
     "metadata": {},
     "output_type": "execute_result"
    }
   ],
   "source": [
    "h = bb[:, 3]\n",
    "w = bb[:, 4]\n",
    "len(h)"
   ]
  },
  {
   "cell_type": "code",
   "execution_count": 68,
   "metadata": {
    "collapsed": false
   },
   "outputs": [
    {
     "data": {
      "text/plain": [
       "1334"
      ]
     },
     "execution_count": 68,
     "metadata": {},
     "output_type": "execute_result"
    }
   ],
   "source": [
    "len(np.multiply(h,w))"
   ]
  },
  {
   "cell_type": "code",
   "execution_count": null,
   "metadata": {
    "collapsed": true
   },
   "outputs": [],
   "source": []
  }
 ],
 "metadata": {
  "kernelspec": {
   "display_name": "Python 2",
   "language": "python",
   "name": "python2"
  },
  "language_info": {
   "codemirror_mode": {
    "name": "ipython",
    "version": 2
   },
   "file_extension": ".py",
   "mimetype": "text/x-python",
   "name": "python",
   "nbconvert_exporter": "python",
   "pygments_lexer": "ipython2",
   "version": "2.7.11"
  }
 },
 "nbformat": 4,
 "nbformat_minor": 0
}
